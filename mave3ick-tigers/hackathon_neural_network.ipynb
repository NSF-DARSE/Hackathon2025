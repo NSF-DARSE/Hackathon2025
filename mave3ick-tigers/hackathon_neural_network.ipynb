{
  "nbformat": 4,
  "nbformat_minor": 0,
  "metadata": {
    "colab": {
      "provenance": []
    },
    "kernelspec": {
      "name": "python3",
      "display_name": "Python 3"
    },
    "language_info": {
      "name": "python"
    }
  },
  "cells": [
    {
      "cell_type": "code",
      "source": [
        "from google.colab import drive\n",
        "drive.mount('/content/drive')"
      ],
      "metadata": {
        "colab": {
          "base_uri": "https://localhost:8080/"
        },
        "id": "NItkq4KwYrO6",
        "outputId": "38df1a3a-7806-478c-fa46-0ed6079f5465"
      },
      "execution_count": null,
      "outputs": [
        {
          "output_type": "stream",
          "name": "stdout",
          "text": [
            "Drive already mounted at /content/drive; to attempt to forcibly remount, call drive.mount(\"/content/drive\", force_remount=True).\n"
          ]
        }
      ]
    },
    {
      "cell_type": "code",
      "source": [
        "import pandas as pd\n",
        "import numpy as np\n",
        "\n",
        "from sklearn.compose import ColumnTransformer\n",
        "from sklearn.preprocessing import OneHotEncoder, StandardScaler\n",
        "from sklearn.pipeline import Pipeline\n",
        "from sklearn.impute import SimpleImputer\n",
        "from sklearn.metrics import (\n",
        "    accuracy_score, classification_report, confusion_matrix,\n",
        "    roc_auc_score, precision_recall_curve\n",
        ")\n",
        "from sklearn.utils.class_weight import compute_class_weight\n",
        "\n",
        "import tensorflow as tf\n",
        "\n",
        "train_path = '/content/drive/MyDrive/mave3ick-tigers/train_synthetic_4000.xlsx'\n",
        "test_path  = '/content/drive/MyDrive/mave3ick-tigers/test_monthday.xlsx'"
      ],
      "metadata": {
        "id": "pvtmU6GlBRkg"
      },
      "execution_count": null,
      "outputs": []
    },
    {
      "cell_type": "code",
      "source": [
        "use_cols = [\n",
        "    \"ProductCategory\",\"ProductPrice\",\"Discount\",\"Channel\",\n",
        "    \"CustomerAge\",\"Region\",\"PreQuoteVisits\",\"day\",\"month\",\n",
        "    \"ConvertedToSale\"\n",
        "]\n",
        "\n",
        "train_df = pd.read_excel(train_path, usecols=use_cols).copy()\n",
        "test_df  = pd.read_excel(test_path,  usecols=use_cols).copy()\n",
        "\n",
        "train_df.head(), test_df.head()"
      ],
      "metadata": {
        "colab": {
          "base_uri": "https://localhost:8080/"
        },
        "id": "U8zMNQxXBdRi",
        "outputId": "e09fd211-8a97-4a1e-c149-a367a9a3a9ab"
      },
      "execution_count": null,
      "outputs": [
        {
          "output_type": "execute_result",
          "data": {
            "text/plain": [
              "(  ProductCategory  ProductPrice  ConvertedToSale  Discount   Channel  \\\n",
              " 0           Books          45.9                0      0.10  Referral   \n",
              " 1         Outdoor          95.0                1      0.10       App   \n",
              " 2          Beauty          56.0                0      0.10       Web   \n",
              " 3         Outdoor          88.9                1      0.15  Referral   \n",
              " 4         Outdoor          88.9                1      0.15  Referral   \n",
              " \n",
              "    CustomerAge    Region  PreQuoteVisits       day  month  \n",
              " 0           35  Illinois               5    Friday  April  \n",
              " 1           60     Texas               4  Thursday    May  \n",
              " 2           40   Georgia               4    Friday  April  \n",
              " 3           30     Texas               3    Sunday  April  \n",
              " 4           30     Texas               3    Sunday  April  ,\n",
              "   ProductCategory  ProductPrice  ConvertedToSale  Discount   Channel  \\\n",
              " 0         Apparel         69.80                0      0.10       App   \n",
              " 1          Beauty         89.00                1      0.15       App   \n",
              " 2         Outdoor        420.99                0      0.00       Web   \n",
              " 3         Apparel         25.50                0      0.00  Referral   \n",
              " 4            Home        377.25                0      0.10       App   \n",
              " \n",
              "    CustomerAge      Region  PreQuoteVisits       day month  \n",
              " 0         29.0  California             3.0   Tuesday  July  \n",
              " 1         49.0    Illinois             8.0    Friday  July  \n",
              " 2         42.0      Nevada             1.0    Friday   May  \n",
              " 3         46.0      Oregon             9.0  Saturday  July  \n",
              " 4         61.0    Michigan             4.0  Thursday  June  )"
            ]
          },
          "metadata": {},
          "execution_count": 21
        }
      ]
    },
    {
      "cell_type": "code",
      "source": [
        "target_col = \"ConvertedToSale\"\n",
        "\n",
        "X_train = train_df.drop(columns=[target_col])\n",
        "y_train = train_df[target_col].astype(int)\n",
        "\n",
        "X_test  = test_df.drop(columns=[target_col])\n",
        "y_test  = test_df[target_col].astype(int)"
      ],
      "metadata": {
        "id": "7eg69Xb7BgIm"
      },
      "execution_count": null,
      "outputs": []
    },
    {
      "cell_type": "code",
      "source": [
        "#from re import X\n",
        "X_train.info()\n",
        "X_test.info()"
      ],
      "metadata": {
        "colab": {
          "base_uri": "https://localhost:8080/"
        },
        "id": "inYIHEOaDtzO",
        "outputId": "75862565-ffeb-42aa-e6b3-488242013fed"
      },
      "execution_count": null,
      "outputs": [
        {
          "output_type": "stream",
          "name": "stdout",
          "text": [
            "<class 'pandas.core.frame.DataFrame'>\n",
            "RangeIndex: 4000 entries, 0 to 3999\n",
            "Data columns (total 9 columns):\n",
            " #   Column           Non-Null Count  Dtype  \n",
            "---  ------           --------------  -----  \n",
            " 0   ProductCategory  4000 non-null   object \n",
            " 1   ProductPrice     4000 non-null   float64\n",
            " 2   Discount         4000 non-null   float64\n",
            " 3   Channel          4000 non-null   object \n",
            " 4   CustomerAge      4000 non-null   int64  \n",
            " 5   Region           4000 non-null   object \n",
            " 6   PreQuoteVisits   4000 non-null   int64  \n",
            " 7   day              4000 non-null   object \n",
            " 8   month            4000 non-null   object \n",
            "dtypes: float64(2), int64(2), object(5)\n",
            "memory usage: 281.4+ KB\n",
            "<class 'pandas.core.frame.DataFrame'>\n",
            "RangeIndex: 1000 entries, 0 to 999\n",
            "Data columns (total 9 columns):\n",
            " #   Column           Non-Null Count  Dtype  \n",
            "---  ------           --------------  -----  \n",
            " 0   ProductCategory  1000 non-null   object \n",
            " 1   ProductPrice     1000 non-null   float64\n",
            " 2   Discount         1000 non-null   float64\n",
            " 3   Channel          1000 non-null   object \n",
            " 4   CustomerAge      999 non-null    float64\n",
            " 5   Region           999 non-null    object \n",
            " 6   PreQuoteVisits   999 non-null    float64\n",
            " 7   day              1000 non-null   object \n",
            " 8   month            1000 non-null   object \n",
            "dtypes: float64(4), object(5)\n",
            "memory usage: 70.4+ KB\n"
          ]
        }
      ]
    },
    {
      "cell_type": "code",
      "source": [
        "y_train"
      ],
      "metadata": {
        "colab": {
          "base_uri": "https://localhost:8080/",
          "height": 444
        },
        "id": "MMgPxPa7EJ-b",
        "outputId": "4bab6d04-dea5-44e8-a573-29e108cef8f9"
      },
      "execution_count": null,
      "outputs": [
        {
          "output_type": "execute_result",
          "data": {
            "text/plain": [
              "0       0\n",
              "1       1\n",
              "2       0\n",
              "3       1\n",
              "4       1\n",
              "       ..\n",
              "3995    0\n",
              "3996    0\n",
              "3997    0\n",
              "3998    1\n",
              "3999    1\n",
              "Name: ConvertedToSale, Length: 4000, dtype: int64"
            ],
            "text/html": [
              "<div>\n",
              "<style scoped>\n",
              "    .dataframe tbody tr th:only-of-type {\n",
              "        vertical-align: middle;\n",
              "    }\n",
              "\n",
              "    .dataframe tbody tr th {\n",
              "        vertical-align: top;\n",
              "    }\n",
              "\n",
              "    .dataframe thead th {\n",
              "        text-align: right;\n",
              "    }\n",
              "</style>\n",
              "<table border=\"1\" class=\"dataframe\">\n",
              "  <thead>\n",
              "    <tr style=\"text-align: right;\">\n",
              "      <th></th>\n",
              "      <th>ConvertedToSale</th>\n",
              "    </tr>\n",
              "  </thead>\n",
              "  <tbody>\n",
              "    <tr>\n",
              "      <th>0</th>\n",
              "      <td>0</td>\n",
              "    </tr>\n",
              "    <tr>\n",
              "      <th>1</th>\n",
              "      <td>1</td>\n",
              "    </tr>\n",
              "    <tr>\n",
              "      <th>2</th>\n",
              "      <td>0</td>\n",
              "    </tr>\n",
              "    <tr>\n",
              "      <th>3</th>\n",
              "      <td>1</td>\n",
              "    </tr>\n",
              "    <tr>\n",
              "      <th>4</th>\n",
              "      <td>1</td>\n",
              "    </tr>\n",
              "    <tr>\n",
              "      <th>...</th>\n",
              "      <td>...</td>\n",
              "    </tr>\n",
              "    <tr>\n",
              "      <th>3995</th>\n",
              "      <td>0</td>\n",
              "    </tr>\n",
              "    <tr>\n",
              "      <th>3996</th>\n",
              "      <td>0</td>\n",
              "    </tr>\n",
              "    <tr>\n",
              "      <th>3997</th>\n",
              "      <td>0</td>\n",
              "    </tr>\n",
              "    <tr>\n",
              "      <th>3998</th>\n",
              "      <td>1</td>\n",
              "    </tr>\n",
              "    <tr>\n",
              "      <th>3999</th>\n",
              "      <td>1</td>\n",
              "    </tr>\n",
              "  </tbody>\n",
              "</table>\n",
              "<p>4000 rows × 1 columns</p>\n",
              "</div><br><label><b>dtype:</b> int64</label>"
            ]
          },
          "metadata": {},
          "execution_count": 37
        }
      ]
    },
    {
      "cell_type": "code",
      "source": [
        "y_test"
      ],
      "metadata": {
        "colab": {
          "base_uri": "https://localhost:8080/",
          "height": 444
        },
        "id": "X06fHbpVENsL",
        "outputId": "884490c0-9a74-4ba5-bcbb-9e1282e10464"
      },
      "execution_count": null,
      "outputs": [
        {
          "output_type": "execute_result",
          "data": {
            "text/plain": [
              "0      0\n",
              "1      1\n",
              "2      0\n",
              "3      0\n",
              "4      0\n",
              "      ..\n",
              "995    0\n",
              "996    0\n",
              "997    0\n",
              "998    0\n",
              "999    0\n",
              "Name: ConvertedToSale, Length: 1000, dtype: int64"
            ],
            "text/html": [
              "<div>\n",
              "<style scoped>\n",
              "    .dataframe tbody tr th:only-of-type {\n",
              "        vertical-align: middle;\n",
              "    }\n",
              "\n",
              "    .dataframe tbody tr th {\n",
              "        vertical-align: top;\n",
              "    }\n",
              "\n",
              "    .dataframe thead th {\n",
              "        text-align: right;\n",
              "    }\n",
              "</style>\n",
              "<table border=\"1\" class=\"dataframe\">\n",
              "  <thead>\n",
              "    <tr style=\"text-align: right;\">\n",
              "      <th></th>\n",
              "      <th>ConvertedToSale</th>\n",
              "    </tr>\n",
              "  </thead>\n",
              "  <tbody>\n",
              "    <tr>\n",
              "      <th>0</th>\n",
              "      <td>0</td>\n",
              "    </tr>\n",
              "    <tr>\n",
              "      <th>1</th>\n",
              "      <td>1</td>\n",
              "    </tr>\n",
              "    <tr>\n",
              "      <th>2</th>\n",
              "      <td>0</td>\n",
              "    </tr>\n",
              "    <tr>\n",
              "      <th>3</th>\n",
              "      <td>0</td>\n",
              "    </tr>\n",
              "    <tr>\n",
              "      <th>4</th>\n",
              "      <td>0</td>\n",
              "    </tr>\n",
              "    <tr>\n",
              "      <th>...</th>\n",
              "      <td>...</td>\n",
              "    </tr>\n",
              "    <tr>\n",
              "      <th>995</th>\n",
              "      <td>0</td>\n",
              "    </tr>\n",
              "    <tr>\n",
              "      <th>996</th>\n",
              "      <td>0</td>\n",
              "    </tr>\n",
              "    <tr>\n",
              "      <th>997</th>\n",
              "      <td>0</td>\n",
              "    </tr>\n",
              "    <tr>\n",
              "      <th>998</th>\n",
              "      <td>0</td>\n",
              "    </tr>\n",
              "    <tr>\n",
              "      <th>999</th>\n",
              "      <td>0</td>\n",
              "    </tr>\n",
              "  </tbody>\n",
              "</table>\n",
              "<p>1000 rows × 1 columns</p>\n",
              "</div><br><label><b>dtype:</b> int64</label>"
            ]
          },
          "metadata": {},
          "execution_count": 38
        }
      ]
    },
    {
      "cell_type": "code",
      "source": [
        "# Explicit column lists\n",
        "cat_cols = [\"ProductCategory\",\"Channel\",\"Region\",\"day\",\"month\"]\n",
        "num_cols = [\"ProductPrice\",\"Discount\",\"CustomerAge\",\"PreQuoteVisits\"]\n",
        "\n",
        "# Pipelines\n",
        "cat_pipe = Pipeline([\n",
        "    (\"imputer\", SimpleImputer(strategy=\"most_frequent\")),\n",
        "    (\"ohe\", OneHotEncoder(handle_unknown=\"ignore\", sparse_output=False))  # if this errors, change to sparse=False\n",
        "])\n",
        "\n",
        "num_pipe = Pipeline([\n",
        "    (\"imputer\", SimpleImputer(strategy=\"median\")),\n",
        "    (\"scaler\", StandardScaler())\n",
        "])\n",
        "\n",
        "preprocess = ColumnTransformer([\n",
        "    (\"cat\", cat_pipe, cat_cols),\n",
        "    (\"num\", num_pipe, num_cols)\n",
        "])\n",
        "\n",
        "X_train_np = preprocess.fit_transform(X_train)\n",
        "X_test_np  = preprocess.transform(X_test)\n",
        "\n",
        "X_train_np.shape, X_test_np.shape"
      ],
      "metadata": {
        "colab": {
          "base_uri": "https://localhost:8080/"
        },
        "id": "-L8dclIFBhnD",
        "outputId": "f04f718d-e3a2-4329-cfd3-6f84bee33ca0"
      },
      "execution_count": null,
      "outputs": [
        {
          "output_type": "execute_result",
          "data": {
            "text/plain": [
              "((4000, 49), (1000, 49))"
            ]
          },
          "metadata": {},
          "execution_count": 23
        }
      ]
    },
    {
      "cell_type": "code",
      "source": [
        "classes = np.unique(y_train)\n",
        "weights = compute_class_weight(class_weight=\"balanced\", classes=classes, y=y_train)\n",
        "class_weight = dict(zip(classes, weights))\n",
        "class_weight"
      ],
      "metadata": {
        "colab": {
          "base_uri": "https://localhost:8080/"
        },
        "id": "-lMMzdXTBqUA",
        "outputId": "26197b34-d3b9-4e70-ba4f-3d46df915692"
      },
      "execution_count": null,
      "outputs": [
        {
          "output_type": "execute_result",
          "data": {
            "text/plain": [
              "{np.int64(0): np.float64(1.0), np.int64(1): np.float64(1.0)}"
            ]
          },
          "metadata": {},
          "execution_count": 24
        }
      ]
    },
    {
      "cell_type": "code",
      "source": [
        "input_dim = X_train_np.shape[1]\n",
        "model = tf.keras.Sequential([\n",
        "    tf.keras.layers.Input(shape=(input_dim,)),\n",
        "    tf.keras.layers.Dense(128, activation=\"relu\"),\n",
        "    tf.keras.layers.Dropout(0.3),\n",
        "    tf.keras.layers.Dense(64, activation=\"relu\"),\n",
        "    tf.keras.layers.Dropout(0.3),\n",
        "    tf.keras.layers.Dense(1, activation=\"sigmoid\")\n",
        "])\n",
        "\n",
        "model.compile(\n",
        "    optimizer=tf.keras.optimizers.Adam(1e-3),\n",
        "    loss=\"binary_crossentropy\",\n",
        "    metrics=[tf.keras.metrics.AUC(name=\"auc\"),\n",
        "             tf.keras.metrics.Precision(name=\"precision\"),\n",
        "             tf.keras.metrics.Recall(name=\"recall\"),\n",
        "             \"accuracy\"]\n",
        ")\n",
        "\n",
        "es = tf.keras.callbacks.EarlyStopping(\n",
        "    monitor=\"val_auc\", mode=\"max\", patience=5, restore_best_weights=True\n",
        ")\n",
        "\n",
        "history = model.fit(\n",
        "    X_train_np, y_train,\n",
        "    validation_split=0.2,\n",
        "    epochs=50,\n",
        "    batch_size=64,\n",
        "    class_weight=class_weight,\n",
        "    callbacks=[es],\n",
        "    verbose=1\n",
        ")"
      ],
      "metadata": {
        "colab": {
          "base_uri": "https://localhost:8080/"
        },
        "id": "DUhQh9CWBufK",
        "outputId": "9010ab89-c456-464b-86d5-195dab08d20f"
      },
      "execution_count": null,
      "outputs": [
        {
          "output_type": "stream",
          "name": "stdout",
          "text": [
            "Epoch 1/50\n",
            "\u001b[1m50/50\u001b[0m \u001b[32m━━━━━━━━━━━━━━━━━━━━\u001b[0m\u001b[37m\u001b[0m \u001b[1m3s\u001b[0m 15ms/step - accuracy: 0.6122 - auc: 0.6522 - loss: 0.6606 - precision: 0.6169 - recall: 0.5784 - val_accuracy: 0.8250 - val_auc: 0.9050 - val_loss: 0.5143 - val_precision: 0.8262 - val_recall: 0.8382\n",
            "Epoch 2/50\n",
            "\u001b[1m50/50\u001b[0m \u001b[32m━━━━━━━━━━━━━━━━━━━━\u001b[0m\u001b[37m\u001b[0m \u001b[1m0s\u001b[0m 4ms/step - accuracy: 0.7915 - auc: 0.8694 - loss: 0.4962 - precision: 0.7810 - recall: 0.8036 - val_accuracy: 0.9000 - val_auc: 0.9576 - val_loss: 0.3262 - val_precision: 0.8795 - val_recall: 0.9348\n",
            "Epoch 3/50\n",
            "\u001b[1m50/50\u001b[0m \u001b[32m━━━━━━━━━━━━━━━━━━━━\u001b[0m\u001b[37m\u001b[0m \u001b[1m0s\u001b[0m 4ms/step - accuracy: 0.8917 - auc: 0.9549 - loss: 0.3123 - precision: 0.8859 - recall: 0.9010 - val_accuracy: 0.9538 - val_auc: 0.9884 - val_loss: 0.1947 - val_precision: 0.9415 - val_recall: 0.9710\n",
            "Epoch 4/50\n",
            "\u001b[1m50/50\u001b[0m \u001b[32m━━━━━━━━━━━━━━━━━━━━\u001b[0m\u001b[37m\u001b[0m \u001b[1m0s\u001b[0m 5ms/step - accuracy: 0.9322 - auc: 0.9817 - loss: 0.2054 - precision: 0.9240 - recall: 0.9408 - val_accuracy: 0.9862 - val_auc: 0.9961 - val_loss: 0.1115 - val_precision: 0.9741 - val_recall: 1.0000\n",
            "Epoch 5/50\n",
            "\u001b[1m50/50\u001b[0m \u001b[32m━━━━━━━━━━━━━━━━━━━━\u001b[0m\u001b[37m\u001b[0m \u001b[1m0s\u001b[0m 4ms/step - accuracy: 0.9510 - auc: 0.9892 - loss: 0.1518 - precision: 0.9525 - recall: 0.9513 - val_accuracy: 0.9887 - val_auc: 0.9981 - val_loss: 0.0702 - val_precision: 0.9787 - val_recall: 1.0000\n",
            "Epoch 6/50\n",
            "\u001b[1m50/50\u001b[0m \u001b[32m━━━━━━━━━━━━━━━━━━━━\u001b[0m\u001b[37m\u001b[0m \u001b[1m0s\u001b[0m 7ms/step - accuracy: 0.9689 - auc: 0.9953 - loss: 0.1035 - precision: 0.9604 - recall: 0.9764 - val_accuracy: 0.9937 - val_auc: 0.9984 - val_loss: 0.0455 - val_precision: 0.9881 - val_recall: 1.0000\n",
            "Epoch 7/50\n",
            "\u001b[1m50/50\u001b[0m \u001b[32m━━━━━━━━━━━━━━━━━━━━\u001b[0m\u001b[37m\u001b[0m \u001b[1m0s\u001b[0m 7ms/step - accuracy: 0.9856 - auc: 0.9982 - loss: 0.0701 - precision: 0.9814 - recall: 0.9900 - val_accuracy: 0.9950 - val_auc: 0.9984 - val_loss: 0.0319 - val_precision: 0.9904 - val_recall: 1.0000\n",
            "Epoch 8/50\n",
            "\u001b[1m50/50\u001b[0m \u001b[32m━━━━━━━━━━━━━━━━━━━━\u001b[0m\u001b[37m\u001b[0m \u001b[1m1s\u001b[0m 6ms/step - accuracy: 0.9865 - auc: 0.9991 - loss: 0.0521 - precision: 0.9765 - recall: 0.9967 - val_accuracy: 0.9950 - val_auc: 0.9979 - val_loss: 0.0242 - val_precision: 0.9904 - val_recall: 1.0000\n",
            "Epoch 9/50\n",
            "\u001b[1m50/50\u001b[0m \u001b[32m━━━━━━━━━━━━━━━━━━━━\u001b[0m\u001b[37m\u001b[0m \u001b[1m1s\u001b[0m 9ms/step - accuracy: 0.9882 - auc: 0.9991 - loss: 0.0473 - precision: 0.9840 - recall: 0.9925 - val_accuracy: 0.9950 - val_auc: 0.9982 - val_loss: 0.0235 - val_precision: 0.9904 - val_recall: 1.0000\n",
            "Epoch 10/50\n",
            "\u001b[1m50/50\u001b[0m \u001b[32m━━━━━━━━━━━━━━━━━━━━\u001b[0m\u001b[37m\u001b[0m \u001b[1m1s\u001b[0m 9ms/step - accuracy: 0.9885 - auc: 0.9994 - loss: 0.0388 - precision: 0.9836 - recall: 0.9930 - val_accuracy: 0.9962 - val_auc: 0.9983 - val_loss: 0.0180 - val_precision: 0.9928 - val_recall: 1.0000\n",
            "Epoch 11/50\n",
            "\u001b[1m50/50\u001b[0m \u001b[32m━━━━━━━━━━━━━━━━━━━━\u001b[0m\u001b[37m\u001b[0m \u001b[1m0s\u001b[0m 7ms/step - accuracy: 0.9941 - auc: 0.9998 - loss: 0.0252 - precision: 0.9901 - recall: 0.9984 - val_accuracy: 0.9975 - val_auc: 0.9982 - val_loss: 0.0143 - val_precision: 0.9952 - val_recall: 1.0000\n",
            "Epoch 12/50\n",
            "\u001b[1m50/50\u001b[0m \u001b[32m━━━━━━━━━━━━━━━━━━━━\u001b[0m\u001b[37m\u001b[0m \u001b[1m0s\u001b[0m 4ms/step - accuracy: 0.9937 - auc: 0.9998 - loss: 0.0241 - precision: 0.9909 - recall: 0.9964 - val_accuracy: 0.9975 - val_auc: 0.9982 - val_loss: 0.0147 - val_precision: 0.9952 - val_recall: 1.0000\n"
          ]
        }
      ]
    },
    {
      "cell_type": "code",
      "source": [
        "from sklearn.metrics import accuracy_score, classification_report, confusion_matrix, roc_auc_score, precision_recall_curve\n",
        "\n",
        "# Default 0.5\n",
        "y_proba = model.predict(X_test_np).ravel()\n",
        "y_pred  = (y_proba >= 0.5).astype(int)\n",
        "\n",
        "print(\"Accuracy:\", accuracy_score(y_test, y_pred))\n",
        "print(\"ROC AUC:\", roc_auc_score(y_test, y_proba))\n",
        "print(\"\\nClassification Report:\\n\", classification_report(y_test, y_pred))\n",
        "print(\"\\nConfusion Matrix:\\n\", confusion_matrix(y_test, y_pred))"
      ],
      "metadata": {
        "colab": {
          "base_uri": "https://localhost:8080/"
        },
        "id": "Wutvp4ruByyW",
        "outputId": "3bbb13f9-15e0-42d1-c831-94fe14d853b2"
      },
      "execution_count": null,
      "outputs": [
        {
          "output_type": "stream",
          "name": "stdout",
          "text": [
            "\u001b[1m32/32\u001b[0m \u001b[32m━━━━━━━━━━━━━━━━━━━━\u001b[0m\u001b[37m\u001b[0m \u001b[1m1s\u001b[0m 10ms/step\n",
            "Accuracy: 0.407\n",
            "ROC AUC: 0.41424479166666667\n",
            "\n",
            "Classification Report:\n",
            "               precision    recall  f1-score   support\n",
            "\n",
            "           0       0.95      0.40      0.57       960\n",
            "           1       0.03      0.47      0.06        40\n",
            "\n",
            "    accuracy                           0.41      1000\n",
            "   macro avg       0.49      0.44      0.31      1000\n",
            "weighted avg       0.91      0.41      0.55      1000\n",
            "\n",
            "\n",
            "Confusion Matrix:\n",
            " [[388 572]\n",
            " [ 21  19]]\n"
          ]
        }
      ]
    },
    {
      "cell_type": "code",
      "source": [
        "import seaborn as sns\n",
        "import matplotlib.pyplot as plt\n",
        "from sklearn.metrics import confusion_matrix\n",
        "\n",
        "# Compute confusion matrix\n",
        "cm = confusion_matrix(y_test, y_pred)\n",
        "\n",
        "# Plot heatmap\n",
        "plt.figure(figsize=(5,4))\n",
        "sns.heatmap(cm, annot=True, fmt='d', cmap='Blues',\n",
        "            xticklabels=['Predicted 0', 'Predicted 1'],\n",
        "            yticklabels=['Actual 0', 'Actual 1'])\n",
        "plt.ylabel('Actual')\n",
        "plt.xlabel('Predicted')\n",
        "plt.title('Confusion Matrix Heatmap')\n",
        "plt.show()"
      ],
      "metadata": {
        "colab": {
          "base_uri": "https://localhost:8080/",
          "height": 409
        },
        "id": "vx1Q6StYCOsm",
        "outputId": "6bb15137-e899-4eaa-f8c7-a712b2816370"
      },
      "execution_count": null,
      "outputs": [
        {
          "output_type": "display_data",
          "data": {
            "text/plain": [
              "<Figure size 500x400 with 2 Axes>"
            ],
            "image/png": "[encoded data removed]"
          },
          "metadata": {}
        }
      ]
    },
    {
      "cell_type": "code",
      "source": [
        "# (Optional) choose threshold maximizing F1\n",
        "prec, rec, thr = precision_recall_curve(y_test, y_proba)\n",
        "f1 = 2*(prec*rec)/(prec+rec+1e-12)\n",
        "best_idx = f1[:-1].argmax()\n",
        "best_thr = thr[best_idx]\n",
        "\n",
        "y_pred_best = (y_proba >= best_thr).astype(int)\n",
        "print(\"Best threshold:\", best_thr)\n",
        "print(\"\\nClassification Report @ best thr:\\n\", classification_report(y_test, y_pred_best))\n",
        "print(\"\\nConfusion Matrix @ best thr:\\n\", confusion_matrix(y_test, y_pred_best))\n"
      ],
      "metadata": {
        "colab": {
          "base_uri": "https://localhost:8080/"
        },
        "id": "0-Bf8FLVDMtP",
        "outputId": "3abf44c4-a092-4b07-d775-bed39c7b7dde"
      },
      "execution_count": null,
      "outputs": [
        {
          "output_type": "stream",
          "name": "stdout",
          "text": [
            "Best threshold: 0.0001281847\n",
            "\n",
            "Classification Report @ best thr:\n",
            "               precision    recall  f1-score   support\n",
            "\n",
            "           0       1.00      0.02      0.04       960\n",
            "           1       0.04      1.00      0.08        40\n",
            "\n",
            "    accuracy                           0.06      1000\n",
            "   macro avg       0.52      0.51      0.06      1000\n",
            "weighted avg       0.96      0.06      0.04      1000\n",
            "\n",
            "\n",
            "Confusion Matrix @ best thr:\n",
            " [[ 21 939]\n",
            " [  0  40]]\n"
          ]
        }
      ]
    },
    {
      "cell_type": "code",
      "source": [
        "import seaborn as sns\n",
        "import matplotlib.pyplot as plt\n",
        "\n",
        "# Confusion matrix for best threshold\n",
        "cm_best = confusion_matrix(y_test, y_pred_best)\n",
        "\n",
        "# Plot heatmap\n",
        "plt.figure(figsize=(5,4))\n",
        "sns.heatmap(cm_best, annot=True, fmt='d', cmap='Blues',\n",
        "            xticklabels=['Predicted 0', 'Predicted 1'],\n",
        "            yticklabels=['Actual 0', 'Actual 1'])\n",
        "plt.ylabel('Actual')\n",
        "plt.xlabel('Predicted')\n",
        "plt.title(f'Confusion Matrix Heatmap @ Best Threshold ({best_thr:.2f})')\n",
        "plt.show()"
      ],
      "metadata": {
        "colab": {
          "base_uri": "https://localhost:8080/",
          "height": 409
        },
        "id": "DAnlMF4wB-pt",
        "outputId": "6bd53fa2-539a-4f72-86bd-de123e83938c"
      },
      "execution_count": null,
      "outputs": [
        {
          "output_type": "display_data",
          "data": {
            "text/plain": [
              "<Figure size 500x400 with 2 Axes>"
            ],
            "image/png": "[encoded data removed]"
          },
          "metadata": {}
        }
      ]
    },
    {
      "cell_type": "code",
      "source": [],
      "metadata": {
        "id": "2TStvkLBCC-U"
      },
      "execution_count": null,
      "outputs": []
    }
  ]
}